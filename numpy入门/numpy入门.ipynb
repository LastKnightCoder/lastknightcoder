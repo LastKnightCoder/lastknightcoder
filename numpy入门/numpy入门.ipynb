{
 "cells": [
  {
   "cell_type": "markdown",
   "metadata": {},
   "source": [
    "## 下载 numpy\n",
    "\n",
    "使用 pip 下载 numpy\n",
    "\n",
    "```bash\n",
    "pip install numpy\n",
    "```\n",
    "\n",
    "如果已经下载了 Anaconda，那么在 base 环境下默认下载好了 numpy。当然我们也可以创建一个新的环境来安装 numpy，下面我们设置新环境的名称为 numpy\n",
    "\n",
    "```bash\n",
    "conda create -n numpy python=3.7\n",
    "```\n",
    "\n",
    "接着激活创建的新环境\n",
    "\n",
    "```bash\n",
    "conda activate numpy\n",
    "```\n",
    "\n",
    "在新环境下安装 numpy\n",
    "\n",
    "```bash\n",
    "conda install numpy\n",
    "```\n",
    "\n",
    "然后就可以在新环境下使用 numpy 了。"
   ]
  },
  {
   "cell_type": "code",
   "execution_count": 1,
   "metadata": {},
   "outputs": [],
   "source": [
    "import numpy as np"
   ]
  },
  {
   "cell_type": "markdown",
   "metadata": {},
   "source": [
    "## ndarray\n",
    "\n",
    "numpy 使用的是 ndarray 的数据类型来保存数据的，所谓的 ndarray 表示的是 N-Dimension-Array，即 N 维数组，所以 numpy 可以很方便的来表示多维的数据，接下来将介绍如何创建 ndarray 对象，如何访问 ndarray 对象，以及 ndarray 的相关属性。\n",
    "\n",
    "### 创建 ndarray 对象\n",
    "\n",
    "#### arange\n",
    "\n",
    "使用 arange 来创建对象，该方法接收的参数如下\n",
    "\n",
    "- start\n",
    "- stop\n",
    "- step\n",
    "\n",
    "该方法的作用是从 start 开始，以 stop 结束，产生以 step 为间距的一系列数。其中 start 和 step 为可选值，默认值分别为 0 和 1，例如"
   ]
  },
  {
   "cell_type": "code",
   "execution_count": 2,
   "metadata": {},
   "outputs": [
    {
     "data": {
      "text/plain": [
       "array([0, 1, 2, 3, 4])"
      ]
     },
     "execution_count": 2,
     "metadata": {},
     "output_type": "execute_result"
    }
   ],
   "source": [
    "np.arange(5)"
   ]
  },
  {
   "cell_type": "markdown",
   "metadata": {},
   "source": [
    "上面的 arange(5)，相当于是 arange(0, 5, 1)，从 0 开始，以 5 结束，步进为 1，产生一系列数，所以 arange(5) 产生的数为 [0, 1 ,2, 3, 4]，结果不包括 5，上面产生的结果的范围是左闭右开的，即 [start, stop)，下面我们来看几个例子"
   ]
  },
  {
   "cell_type": "code",
   "execution_count": 3,
   "metadata": {},
   "outputs": [
    {
     "data": {
      "text/plain": [
       "array([1, 2])"
      ]
     },
     "execution_count": 3,
     "metadata": {},
     "output_type": "execute_result"
    }
   ],
   "source": [
    "np.arange(1, 3)"
   ]
  },
  {
   "cell_type": "code",
   "execution_count": 4,
   "metadata": {},
   "outputs": [
    {
     "data": {
      "text/plain": [
       "array([0, 2, 4, 6, 8])"
      ]
     },
     "execution_count": 4,
     "metadata": {},
     "output_type": "execute_result"
    }
   ],
   "source": [
    "np.arange(0, 10, 2)"
   ]
  },
  {
   "cell_type": "code",
   "execution_count": 5,
   "metadata": {},
   "outputs": [
    {
     "data": {
      "text/plain": [
       "array([10,  9,  8,  7,  6,  5,  4,  3,  2,  1])"
      ]
     },
     "execution_count": 5,
     "metadata": {},
     "output_type": "execute_result"
    }
   ],
   "source": [
    "np.arange(10, 0, -1)"
   ]
  },
  {
   "cell_type": "markdown",
   "metadata": {},
   "source": [
    "我们可以通过 numpy 的 info 方法来查看 numpy 方法的具体信息，如"
   ]
  },
  {
   "cell_type": "code",
   "execution_count": 6,
   "metadata": {},
   "outputs": [
    {
     "name": "stdout",
     "output_type": "stream",
     "text": [
      "arange([start,] stop[, step,], dtype=None)\n",
      "\n",
      "Return evenly spaced values within a given interval.\n",
      "\n",
      "Values are generated within the half-open interval ``[start, stop)``\n",
      "(in other words, the interval including `start` but excluding `stop`).\n",
      "For integer arguments the function is equivalent to the Python built-in\n",
      "`range` function, but returns an ndarray rather than a list.\n",
      "\n",
      "When using a non-integer step, such as 0.1, the results will often not\n",
      "be consistent.  It is better to use `numpy.linspace` for these cases.\n",
      "\n",
      "Parameters\n",
      "----------\n",
      "start : number, optional\n",
      "    Start of interval.  The interval includes this value.  The default\n",
      "    start value is 0.\n",
      "stop : number\n",
      "    End of interval.  The interval does not include this value, except\n",
      "    in some cases where `step` is not an integer and floating point\n",
      "    round-off affects the length of `out`.\n",
      "step : number, optional\n",
      "    Spacing between values.  For any output `out`, this is the distance\n",
      "    between two adjacent values, ``out[i+1] - out[i]``.  The default\n",
      "    step size is 1.  If `step` is specified as a position argument,\n",
      "    `start` must also be given.\n",
      "dtype : dtype\n",
      "    The type of the output array.  If `dtype` is not given, infer the data\n",
      "    type from the other input arguments.\n",
      "\n",
      "Returns\n",
      "-------\n",
      "arange : ndarray\n",
      "    Array of evenly spaced values.\n",
      "\n",
      "    For floating point arguments, the length of the result is\n",
      "    ``ceil((stop - start)/step)``.  Because of floating point overflow,\n",
      "    this rule may result in the last element of `out` being greater\n",
      "    than `stop`.\n",
      "\n",
      "See Also\n",
      "--------\n",
      "numpy.linspace : Evenly spaced numbers with careful handling of endpoints.\n",
      "numpy.ogrid: Arrays of evenly spaced numbers in N-dimensions.\n",
      "numpy.mgrid: Grid-shaped arrays of evenly spaced numbers in N-dimensions.\n",
      "\n",
      "Examples\n",
      "--------\n",
      ">>> np.arange(3)\n",
      "array([0, 1, 2])\n",
      ">>> np.arange(3.0)\n",
      "array([ 0.,  1.,  2.])\n",
      ">>> np.arange(3,7)\n",
      "array([3, 4, 5, 6])\n",
      ">>> np.arange(3,7,2)\n",
      "array([3, 5])\n"
     ]
    }
   ],
   "source": [
    "np.info(np.arange)"
   ]
  },
  {
   "cell_type": "markdown",
   "metadata": {},
   "source": [
    "#### linspace\n",
    "\n",
    "接下来下面我们介绍使用 linspace 来创建 ndarray 对象。该函数的作用是将给定的区间均匀的划分为 N 等份，所以最基本的应该有两个参数来给定区间大小，分别为 start 和 stop，当不给定 N 时，默认划分为 50 份"
   ]
  },
  {
   "cell_type": "code",
   "execution_count": 8,
   "metadata": {},
   "outputs": [
    {
     "data": {
      "text/plain": [
       "array([ 0.,  1.,  2.,  3.,  4.,  5.,  6.,  7.,  8.,  9., 10., 11., 12.,\n",
       "       13., 14., 15., 16., 17., 18., 19., 20., 21., 22., 23., 24., 25.,\n",
       "       26., 27., 28., 29., 30., 31., 32., 33., 34., 35., 36., 37., 38.,\n",
       "       39., 40., 41., 42., 43., 44., 45., 46., 47., 48., 49.])"
      ]
     },
     "execution_count": 8,
     "metadata": {},
     "output_type": "execute_result"
    }
   ],
   "source": [
    "np.linspace(0, 49)"
   ]
  },
  {
   "cell_type": "markdown",
   "metadata": {},
   "source": [
    "我们可以通过参数 num 来指定划分为多少份"
   ]
  },
  {
   "cell_type": "code",
   "execution_count": 9,
   "metadata": {},
   "outputs": [
    {
     "data": {
      "text/plain": [
       "array([ 0.,  1.,  2.,  3.,  4.,  5.,  6.,  7.,  8.,  9., 10.])"
      ]
     },
     "execution_count": 9,
     "metadata": {},
     "output_type": "execute_result"
    }
   ],
   "source": [
    "np.linspace(0, 10, num=11)"
   ]
  },
  {
   "cell_type": "markdown",
   "metadata": {},
   "source": [
    "通过上面的例子我们发现，我们得到的数组它的范围在 [start, stop] 之间，即左右都是封闭的，我们可以通过传入 endpoint 来改变这个行为，它是一个布尔值，当值为 True 时表示包含 stop，为 False 时表示不包含 stop，默认值为 True，我们修改 endpoint 为 False 来看下结果"
   ]
  },
  {
   "cell_type": "code",
   "execution_count": 10,
   "metadata": {},
   "outputs": [
    {
     "data": {
      "text/plain": [
       "array([0.        , 0.90909091, 1.81818182, 2.72727273, 3.63636364,\n",
       "       4.54545455, 5.45454545, 6.36363636, 7.27272727, 8.18181818,\n",
       "       9.09090909])"
      ]
     },
     "execution_count": 10,
     "metadata": {},
     "output_type": "execute_result"
    }
   ],
   "source": [
    "np.linspace(0, 10, num=11, endpoint=False)"
   ]
  },
  {
   "cell_type": "markdown",
   "metadata": {},
   "source": [
    "上面得到的数组元素之间的间隔 step 是自动计算得到的，如果我们希望能够得到 step 的大小，我们可以通过传入 retstep 的值为 True 来得到 step 值，这个时候 linspace 会返回一个元祖，元祖的第一个元素就是 ndarray 对象，第二个元素就是 step 值"
   ]
  },
  {
   "cell_type": "code",
   "execution_count": 11,
   "metadata": {},
   "outputs": [
    {
     "data": {
      "text/plain": [
       "(array([ 0.,  1.,  2.,  3.,  4.,  5.,  6.,  7.,  8.,  9., 10.]), 1.0)"
      ]
     },
     "execution_count": 11,
     "metadata": {},
     "output_type": "execute_result"
    }
   ],
   "source": [
    "np.linspace(0, 10, 11, retstep=True)"
   ]
  },
  {
   "cell_type": "markdown",
   "metadata": {},
   "source": [
    "#### array\n",
    "\n",
    "array 方法它的作用就是将一个类数组(array_like) 变为一个 ndarray 对象，比如将 list 变为一个 ndarray 对象"
   ]
  },
  {
   "cell_type": "code",
   "execution_count": 13,
   "metadata": {},
   "outputs": [
    {
     "data": {
      "text/plain": [
       "array([1, 2, 3, 4])"
      ]
     },
     "execution_count": 13,
     "metadata": {},
     "output_type": "execute_result"
    }
   ],
   "source": [
    "np.array([1, 2, 3, 4])"
   ]
  },
  {
   "cell_type": "markdown",
   "metadata": {},
   "source": [
    "关于 array 方法，知道这么多就够用了，如果想了解更加详细的信息，那就通过 np.info 查看。"
   ]
  },
  {
   "cell_type": "markdown",
   "metadata": {},
   "source": [
    "####  ones和zeros\n",
    "\n",
    "下面介绍两个方法来创建元素全 1 和全 0 的数组，它们分别是 ones 和 zeros，它们都需要接收一个表示形状的元祖参数，来决定输出 ndarray 对象的形状"
   ]
  },
  {
   "cell_type": "code",
   "execution_count": 16,
   "metadata": {},
   "outputs": [
    {
     "data": {
      "text/plain": [
       "array([[1., 1., 1.],\n",
       "       [1., 1., 1.]])"
      ]
     },
     "execution_count": 16,
     "metadata": {},
     "output_type": "execute_result"
    }
   ],
   "source": [
    "np.ones((2, 3))"
   ]
  },
  {
   "cell_type": "code",
   "execution_count": 17,
   "metadata": {},
   "outputs": [
    {
     "data": {
      "text/plain": [
       "array([0., 0., 0., 0., 0., 0., 0., 0., 0., 0.])"
      ]
     },
     "execution_count": 17,
     "metadata": {},
     "output_type": "execute_result"
    }
   ],
   "source": [
    "np.zeros((10,))"
   ]
  },
  {
   "cell_type": "code",
   "execution_count": 18,
   "metadata": {},
   "outputs": [
    {
     "data": {
      "text/plain": [
       "array([[0.],\n",
       "       [0.],\n",
       "       [0.],\n",
       "       [0.],\n",
       "       [0.],\n",
       "       [0.],\n",
       "       [0.],\n",
       "       [0.],\n",
       "       [0.],\n",
       "       [0.]])"
      ]
     },
     "execution_count": 18,
     "metadata": {},
     "output_type": "execute_result"
    }
   ],
   "source": [
    "np.zeros((10, 1))"
   ]
  },
  {
   "cell_type": "code",
   "execution_count": 19,
   "metadata": {},
   "outputs": [
    {
     "data": {
      "text/plain": [
       "array([[0., 0., 0., 0., 0., 0., 0., 0., 0., 0.]])"
      ]
     },
     "execution_count": 19,
     "metadata": {},
     "output_type": "execute_result"
    }
   ],
   "source": [
    "np.zeros((1, 10))"
   ]
  },
  {
   "cell_type": "markdown",
   "metadata": {},
   "source": [
    "### 访问 ndarray 对象\n",
    "\n",
    "我们完全可以将 ndarray 看做是 list，我们可以通过 [index] 的形式来访问 ndarray 对象中的元素，当然我们也可以通过切片的方式来访问"
   ]
  },
  {
   "cell_type": "code",
   "execution_count": 20,
   "metadata": {},
   "outputs": [
    {
     "name": "stdout",
     "output_type": "stream",
     "text": [
      "[[ 0.06919573 -0.24188977 -0.68455416 -2.07068023  2.80243371 -0.42935685\n",
      "   0.11773026 -2.06743583  0.44219591  0.11982165]\n",
      " [-0.14465873 -0.15037763  0.33420661  0.01945726 -0.5263156   0.88381734\n",
      "  -0.5609567  -0.10305659 -0.48146344 -0.67208818]\n",
      " [ 1.23150149 -1.21189511 -0.48193308  0.64763366  1.03340506  0.87124056\n",
      "  -1.2152535   1.40643233  1.35749941  0.30754234]\n",
      " [-0.57931491 -0.55621786  1.12457391  0.16242107 -1.36883925 -0.95126884\n",
      "  -0.87279687  0.38494399 -0.18119258  0.59474948]\n",
      " [ 0.76893136 -1.23505979  0.7093187  -0.68116596 -1.74445026  0.18380907\n",
      "   0.67332016  0.22392547 -1.21848506 -0.36607592]\n",
      " [-1.45639629  0.31094321  1.19307513 -1.87139056 -0.33479409  2.50316347\n",
      "  -0.76524934  0.00775338  0.47245051  1.07585657]\n",
      " [ 0.03777429 -0.72992872  0.54710717  0.09034676 -2.7283     -1.39820113\n",
      "   0.95392062 -1.81650025  1.73727875  0.98560116]\n",
      " [-0.6072326  -0.14660564 -0.37108136 -0.3839672  -0.14923606  0.3421356\n",
      "  -0.71619792 -0.26358501 -0.13848647  0.15698095]\n",
      " [-0.64646839 -0.66643321  1.73943407  1.07837832 -0.19780183 -1.27093584\n",
      "  -1.09667426  0.18993473  1.11064951  0.88694679]\n",
      " [-1.79614605  0.08972476 -1.06625321  1.53315127 -0.20550693  0.64519763\n",
      "   0.75248812  0.4470028   0.11989271  1.87800902]]\n"
     ]
    }
   ],
   "source": [
    "# 生成符合均值为 0， 方差为 1 的正态分布的随机数，个数为 10 * 10\n",
    "b = np.random.normal(0, 1, (10, 10))\n",
    "\n",
    "print(b)"
   ]
  },
  {
   "cell_type": "code",
   "execution_count": 21,
   "metadata": {},
   "outputs": [
    {
     "data": {
      "text/plain": [
       "array([ 0.06919573, -0.24188977, -0.68455416, -2.07068023,  2.80243371,\n",
       "       -0.42935685,  0.11773026, -2.06743583,  0.44219591,  0.11982165])"
      ]
     },
     "execution_count": 21,
     "metadata": {},
     "output_type": "execute_result"
    }
   ],
   "source": [
    "b[0] # 第一行"
   ]
  },
  {
   "cell_type": "code",
   "execution_count": 22,
   "metadata": {},
   "outputs": [
    {
     "data": {
      "text/plain": [
       "-0.6845541644217675"
      ]
     },
     "execution_count": 22,
     "metadata": {},
     "output_type": "execute_result"
    }
   ],
   "source": [
    "b[0, 2] # 相当于 b[0][2]，获得第一行，第三列的数据"
   ]
  },
  {
   "cell_type": "code",
   "execution_count": 23,
   "metadata": {},
   "outputs": [
    {
     "data": {
      "text/plain": [
       "0.11982164559424706"
      ]
     },
     "execution_count": 23,
     "metadata": {},
     "output_type": "execute_result"
    }
   ],
   "source": [
    "b[0, -1] # 获得第一行，最后一列的数据，-1表示倒数第一个"
   ]
  },
  {
   "cell_type": "code",
   "execution_count": 24,
   "metadata": {},
   "outputs": [
    {
     "data": {
      "text/plain": [
       "array([[ 0.06919573, -0.24188977, -0.68455416, -2.07068023,  2.80243371,\n",
       "        -0.42935685,  0.11773026, -2.06743583,  0.44219591,  0.11982165],\n",
       "       [-0.14465873, -0.15037763,  0.33420661,  0.01945726, -0.5263156 ,\n",
       "         0.88381734, -0.5609567 , -0.10305659, -0.48146344, -0.67208818],\n",
       "       [ 1.23150149, -1.21189511, -0.48193308,  0.64763366,  1.03340506,\n",
       "         0.87124056, -1.2152535 ,  1.40643233,  1.35749941,  0.30754234]])"
      ]
     },
     "execution_count": 24,
     "metadata": {},
     "output_type": "execute_result"
    }
   ],
   "source": [
    "b[0: 3] # 获得第一行到第四行的数据，不包括第四行"
   ]
  },
  {
   "cell_type": "code",
   "execution_count": 25,
   "metadata": {},
   "outputs": [
    {
     "data": {
      "text/plain": [
       "array([ 0.11982165, -0.67208818,  0.30754234])"
      ]
     },
     "execution_count": 25,
     "metadata": {},
     "output_type": "execute_result"
    }
   ],
   "source": [
    "b[0: 3, -1] # 获得第一行到第四行最后一列的数据"
   ]
  },
  {
   "cell_type": "markdown",
   "metadata": {},
   "source": [
    "### ndarray 对象的属性\n",
    "\n",
    "下面介绍 ndarray 对象拥有的属性，包括\n",
    "\n",
    "- size：ndarray 对象中有多少个元素\n",
    "- shape：ndarray 对象的形状\n",
    "- dtype：ndarray 对象保存元素的类型\n",
    "- ndim：ndarray 对象的维度\n",
    "- T：ndarray 对象的转置\n",
    "- flat：保存 ndarray 展成一维形状的迭代对象"
   ]
  },
  {
   "cell_type": "code",
   "execution_count": 26,
   "metadata": {},
   "outputs": [
    {
     "name": "stdout",
     "output_type": "stream",
     "text": [
      "[[1 2 3]\n",
      " [4 5 6]\n",
      " [7 8 9]]\n"
     ]
    }
   ],
   "source": [
    "a = np.array([[1, 2, 3], [4, 5, 6],  [7, 8, 9]])\n",
    "\n",
    "print(a)"
   ]
  },
  {
   "cell_type": "code",
   "execution_count": 27,
   "metadata": {},
   "outputs": [
    {
     "data": {
      "text/plain": [
       "9"
      ]
     },
     "execution_count": 27,
     "metadata": {},
     "output_type": "execute_result"
    }
   ],
   "source": [
    "a.size"
   ]
  },
  {
   "cell_type": "code",
   "execution_count": 28,
   "metadata": {},
   "outputs": [
    {
     "data": {
      "text/plain": [
       "(3, 3)"
      ]
     },
     "execution_count": 28,
     "metadata": {},
     "output_type": "execute_result"
    }
   ],
   "source": [
    "a.shape"
   ]
  },
  {
   "cell_type": "code",
   "execution_count": 29,
   "metadata": {},
   "outputs": [
    {
     "data": {
      "text/plain": [
       "dtype('int32')"
      ]
     },
     "execution_count": 29,
     "metadata": {},
     "output_type": "execute_result"
    }
   ],
   "source": [
    "a.dtype"
   ]
  },
  {
   "cell_type": "code",
   "execution_count": 30,
   "metadata": {},
   "outputs": [
    {
     "data": {
      "text/plain": [
       "2"
      ]
     },
     "execution_count": 30,
     "metadata": {},
     "output_type": "execute_result"
    }
   ],
   "source": [
    "a.ndim"
   ]
  },
  {
   "cell_type": "code",
   "execution_count": 31,
   "metadata": {},
   "outputs": [
    {
     "data": {
      "text/plain": [
       "array([[1, 4, 7],\n",
       "       [2, 5, 8],\n",
       "       [3, 6, 9]])"
      ]
     },
     "execution_count": 31,
     "metadata": {},
     "output_type": "execute_result"
    }
   ],
   "source": [
    "a.T"
   ]
  },
  {
   "cell_type": "code",
   "execution_count": 32,
   "metadata": {},
   "outputs": [
    {
     "name": "stdout",
     "output_type": "stream",
     "text": [
      "1\n",
      "2\n",
      "3\n",
      "4\n",
      "5\n",
      "6\n",
      "7\n",
      "8\n",
      "9\n"
     ]
    }
   ],
   "source": [
    "flat_iterator = a.flat\n",
    "\n",
    "for i in flat_iterator:\n",
    "    print(i)"
   ]
  },
  {
   "cell_type": "markdown",
   "metadata": {},
   "source": [
    "上面介绍的属性都是很容易理解的，在这里补充一点优点 dtype 的知识。其实在上面很多介绍的方法中，我们都可以传入一个 dtype 参数来指定使用什么数据类型来保存元素，如果不指定的话，那么会根据输入的元素来自动的推定使用哪种数据类型保存元素。\n",
    "\n",
    "那 numpy 为我们提供了哪些数据类型呢? 如下\n",
    "\n",
    "| 数据类型 | 简介|\n",
    "| --- | --- |\n",
    "| int8 | 使用8位保存整数 |\n",
    "| int16 | 16 位 |\n",
    "| int32 | 32 位|\n",
    "| int64 | 64 位 |\n",
    "| float16 | 使用 16 位保存浮点数 |\n",
    "| float32 | 32 位 |\n",
    "| float64 | 64 位 |\n",
    "| complex64 | 使用 64 为来保存复数  |\n",
    "| complex128 | 128 位 |"
   ]
  }
 ],
 "metadata": {
  "kernelspec": {
   "display_name": "Python 3",
   "language": "python",
   "name": "python3"
  },
  "language_info": {
   "codemirror_mode": {
    "name": "ipython",
    "version": 3
   },
   "file_extension": ".py",
   "mimetype": "text/x-python",
   "name": "python",
   "nbconvert_exporter": "python",
   "pygments_lexer": "ipython3",
   "version": "3.7.6"
  }
 },
 "nbformat": 4,
 "nbformat_minor": 4
}
